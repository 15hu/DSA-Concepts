{
 "cells": [
  {
   "cell_type": "markdown",
   "id": "2b03b9ea",
   "metadata": {},
   "source": [
    "### Q. Print a name N times using Recursion."
   ]
  },
  {
   "cell_type": "code",
   "execution_count": 2,
   "id": "28c9d082",
   "metadata": {},
   "outputs": [
    {
     "name": "stdout",
     "output_type": "stream",
     "text": [
      "Ishwar Patel\n",
      "Ishwar Patel\n",
      "Ishwar Patel\n",
      "Ishwar Patel\n",
      "Ishwar Patel\n"
     ]
    }
   ],
   "source": [
    "N = 5\n",
    "name = 'Ishwar Patel'\n",
    "\n",
    "def printName(n):\n",
    "    if(n>0):\n",
    "        print(name)\n",
    "        printName(n-1)\n",
    "    return\n",
    "\n",
    "printName(N)"
   ]
  },
  {
   "cell_type": "markdown",
   "id": "b42aaf9e",
   "metadata": {},
   "source": [
    "### Q. Print from 1 to N"
   ]
  },
  {
   "cell_type": "code",
   "execution_count": 7,
   "id": "c636944e",
   "metadata": {},
   "outputs": [
    {
     "name": "stdout",
     "output_type": "stream",
     "text": [
      "1\n",
      "2\n",
      "3\n",
      "4\n"
     ]
    }
   ],
   "source": [
    "N = 4\n",
    "\n",
    "def printN(n):\n",
    "    if n>0:\n",
    "        printN(n-1)\n",
    "        print(n)\n",
    "    return\n",
    "        \n",
    "printN(N)"
   ]
  },
  {
   "cell_type": "markdown",
   "id": "fb770fcf",
   "metadata": {},
   "source": [
    "### Q. Sum of first N Natural numbers"
   ]
  },
  {
   "cell_type": "code",
   "execution_count": 19,
   "id": "ff723093",
   "metadata": {},
   "outputs": [
    {
     "name": "stdout",
     "output_type": "stream",
     "text": [
      "36\n",
      "36\n"
     ]
    }
   ],
   "source": [
    "N = 8\n",
    "\n",
    "# Parameterised\n",
    "def doParamSum(n, s):\n",
    "    if n>0:\n",
    "        doParamSum(n-1,s+n)\n",
    "    else:\n",
    "        print(s)\n",
    "        return\n",
    "        \n",
    "doSum(N, 0) \n",
    "\n",
    "# Functional\n",
    "def doFuncSum(n):\n",
    "    if n>0:\n",
    "        return n + doFuncSum(n-1)\n",
    "    else:\n",
    "        return 0\n",
    "\n",
    "print(doFuncSum(N))"
   ]
  },
  {
   "cell_type": "markdown",
   "id": "70f42460",
   "metadata": {},
   "source": [
    "### Q. Reverse an array"
   ]
  },
  {
   "cell_type": "code",
   "execution_count": 21,
   "id": "0b02e20f",
   "metadata": {},
   "outputs": [
    {
     "name": "stdout",
     "output_type": "stream",
     "text": [
      "[3, 4, 5, 1, 9]\n",
      "[9, 1, 5, 4, 3]\n"
     ]
    }
   ],
   "source": [
    "arr = [3,4,5,1,9]\n",
    "print(arr)\n",
    "\n",
    "def revArr(l, r):\n",
    "    if l>=r:\n",
    "        return\n",
    "    arr[l], arr[r] = arr[r], arr[l]\n",
    "    revArr(l+1, r-1)\n",
    "    \n",
    "revArr(0,len(arr)-1)\n",
    "print(arr)"
   ]
  },
  {
   "cell_type": "markdown",
   "id": "95c1fb6f",
   "metadata": {},
   "source": [
    "### Q. Check if a string is palindrome or not"
   ]
  },
  {
   "cell_type": "code",
   "execution_count": 32,
   "id": "7869fe09",
   "metadata": {},
   "outputs": [
    {
     "name": "stdout",
     "output_type": "stream",
     "text": [
      "True\n",
      "False\n"
     ]
    }
   ],
   "source": [
    "inpStr1 = \"anana\"\n",
    "inpStr2 = \"banana\"\n",
    "\n",
    "def isPalindrome(l, r, inpStr):\n",
    "    if l>=r:\n",
    "        return True\n",
    "    if inpStr[l]!=inpStr[r]:\n",
    "        return False\n",
    "    isPalindrome(l+1, r-1, inpStr)\n",
    "    return True\n",
    "\n",
    "print(isPalindrome(0, len(inpStr1)-1, inpStr1))\n",
    "print(isPalindrome(0, len(inpStr2)-1, inpStr2))"
   ]
  },
  {
   "cell_type": "markdown",
   "id": "10c4a310",
   "metadata": {},
   "source": [
    "### Q. Print nth Fibonacci number"
   ]
  },
  {
   "cell_type": "code",
   "execution_count": 37,
   "id": "5785d839",
   "metadata": {},
   "outputs": [
    {
     "data": {
      "text/plain": [
       "8"
      ]
     },
     "execution_count": 37,
     "metadata": {},
     "output_type": "execute_result"
    }
   ],
   "source": [
    "N = 6\n",
    "\n",
    "def fibonacci(n):\n",
    "    if n<=1:\n",
    "        return n\n",
    "    return fibonacci(n-1) + fibonacci(n-2)\n",
    "    \n",
    "fibonacci(N)"
   ]
  },
  {
   "cell_type": "markdown",
   "id": "fe6b54d6",
   "metadata": {},
   "source": [
    "### Q. Print all subsequences of an array"
   ]
  },
  {
   "cell_type": "code",
   "execution_count": 42,
   "id": "5ff9b67c",
   "metadata": {},
   "outputs": [
    {
     "name": "stdout",
     "output_type": "stream",
     "text": [
      "[3, 1, 2]\n",
      "[3, 1]\n",
      "[3, 2]\n",
      "[3]\n",
      "[1, 2]\n",
      "[1]\n",
      "[2]\n",
      "[]\n"
     ]
    }
   ],
   "source": [
    "arr = [3,1,2]\n",
    "\n",
    "def printSubsequences(ind, tempArr = []):\n",
    "    if ind >= len(arr):\n",
    "        print(tempArr)\n",
    "        return\n",
    "    tempArr.append(arr[ind]) # taking element of next index\n",
    "    printSubsequences(ind + 1, tempArr)\n",
    "    tempArr.pop() # not taking element of next index\n",
    "    printSubsequences(ind + 1, tempArr)\n",
    "    \n",
    "printSubsequences(0)"
   ]
  },
  {
   "cell_type": "markdown",
   "id": "c5c70314",
   "metadata": {},
   "source": [
    "### Q. Print all subsequences whose sum is k"
   ]
  },
  {
   "cell_type": "code",
   "execution_count": 44,
   "id": "74ccb810",
   "metadata": {},
   "outputs": [
    {
     "name": "stdout",
     "output_type": "stream",
     "text": [
      "[3, 4, 1]\n",
      "[3, 4, 1]\n",
      "[3, 5]\n",
      "[7, 1]\n",
      "[7, 1]\n",
      "[2, 4, 1, 1]\n",
      "[2, 1, 5]\n",
      "[2, 5, 1]\n"
     ]
    }
   ],
   "source": [
    "arr = [3,7,2,4,1,5,1]\n",
    "k = 8\n",
    "\n",
    "def sumSubsequence(i = 0, temp = [], s = 0):\n",
    "    if i>=len(arr):\n",
    "        if s == k:\n",
    "            print(temp)\n",
    "        return\n",
    "    temp.append(arr[i])\n",
    "    sumSubsequence(i+1, temp, s+arr[i])\n",
    "    temp.pop()\n",
    "    sumSubsequence(i+1, temp, s)\n",
    "    \n",
    "sumSubsequence()"
   ]
  },
  {
   "cell_type": "markdown",
   "id": "00fb0afc",
   "metadata": {},
   "source": [
    "### Q. Print any subsequence whose sum is k"
   ]
  },
  {
   "cell_type": "code",
   "execution_count": 45,
   "id": "d26813cb",
   "metadata": {},
   "outputs": [
    {
     "name": "stdout",
     "output_type": "stream",
     "text": [
      "[3, 4, 1]\n"
     ]
    },
    {
     "data": {
      "text/plain": [
       "True"
      ]
     },
     "execution_count": 45,
     "metadata": {},
     "output_type": "execute_result"
    }
   ],
   "source": [
    "arr = [3,7,2,4,1,5,1]\n",
    "k = 8\n",
    "\n",
    "def sumSubsequence(i = 0, temp = [], s = 0):\n",
    "    if i>=len(arr):\n",
    "        if s == k:\n",
    "            print(temp)\n",
    "            return True\n",
    "        return False\n",
    "    temp.append(arr[i])\n",
    "    if sumSubsequence(i+1, temp, s+arr[i]):\n",
    "        return True\n",
    "    temp.pop()\n",
    "    if sumSubsequence(i+1, temp, s):\n",
    "        return True\n",
    "    return False\n",
    "    \n",
    "sumSubsequence()"
   ]
  },
  {
   "cell_type": "markdown",
   "id": "d1b94728",
   "metadata": {},
   "source": [
    "### Q. Count the number of subsequences whose sum is k"
   ]
  },
  {
   "cell_type": "code",
   "execution_count": 47,
   "id": "24d9ad30",
   "metadata": {},
   "outputs": [
    {
     "name": "stdout",
     "output_type": "stream",
     "text": [
      "8\n"
     ]
    }
   ],
   "source": [
    "arr = [3,7,2,4,1,5,1]\n",
    "k = 8\n",
    "\n",
    "def sumSubsequence(i = 0, temp = [], s = 0):\n",
    "    if i>=len(arr):\n",
    "        if s == k:\n",
    "            return 1\n",
    "        return 0\n",
    "    temp.append(arr[i])\n",
    "    l = sumSubsequence(i+1, temp, s+arr[i])\n",
    "    temp.pop()\n",
    "    r = sumSubsequence(i+1, temp, s)\n",
    "    return l+r\n",
    "    \n",
    "print(sumSubsequence())"
   ]
  },
  {
   "cell_type": "markdown",
   "id": "c35c8772",
   "metadata": {},
   "source": [
    "### Q. Combination sum I"
   ]
  },
  {
   "cell_type": "code",
   "execution_count": 7,
   "id": "a6ee297b",
   "metadata": {},
   "outputs": [
    {
     "name": "stdout",
     "output_type": "stream",
     "text": [
      "[1, 1, 1, 1]\n",
      "[1, 1, 1, 1]\n",
      "[1, 1, 2]\n",
      "[1, 1, 1, 1]\n",
      "[1, 2, 1]\n",
      "[1, 3]\n",
      "[1, 1, 1, 1]\n",
      "[2, 2]\n",
      "[2, 1, 1]\n",
      "[3, 1]\n",
      "[1, 1, 1, 1]\n"
     ]
    }
   ],
   "source": [
    "arr = [1,2,3,1]\n",
    "k = 4\n",
    "\n",
    "def combinationSum(i=0, t = k, temp = []):\n",
    "    if i == len(arr):\n",
    "        if t == 0:\n",
    "            print(temp)\n",
    "        return\n",
    "    if arr[i] <= t:\n",
    "        temp.append(arr[i])\n",
    "        combinationSum(i, t-arr[i], temp)\n",
    "        temp.pop()\n",
    "    combinationSum(i+1, t, temp)\n",
    "    \n",
    "combinationSum()"
   ]
  },
  {
   "cell_type": "markdown",
   "id": "b067548a",
   "metadata": {},
   "source": [
    "### Q. Combination Sum II"
   ]
  },
  {
   "cell_type": "code",
   "execution_count": 37,
   "id": "982b2f38",
   "metadata": {},
   "outputs": [
    {
     "name": "stdout",
     "output_type": "stream",
     "text": [
      "[1, 1, 1, 2, 2]\n",
      "----------\n",
      "[1, 1, 2]\n",
      "[2, 2]\n"
     ]
    }
   ],
   "source": [
    "arr = [1,1,1,2,2]\n",
    "arr = sorted(arr)\n",
    "print(arr)\n",
    "print(\"----------\")\n",
    "target = 4\n",
    "\n",
    "def findCombinations(ind = 0, t = target, temp = []):\n",
    "    if t == 0:\n",
    "        print(temp)\n",
    "        return\n",
    "    for i in range(ind, len(arr)):\n",
    "        if i > ind and arr[i] == arr[i-1]:\n",
    "            continue\n",
    "        if arr[i] > t:\n",
    "            break\n",
    "        temp.append(arr[i])\n",
    "        findCombinations(i + 1, t - arr[i], temp)\n",
    "        temp.pop()\n",
    "        \n",
    "findCombinations()"
   ]
  },
  {
   "cell_type": "markdown",
   "id": "5992e8df",
   "metadata": {},
   "source": [
    "### Q. Subset Sum I"
   ]
  },
  {
   "cell_type": "code",
   "execution_count": 41,
   "id": "aca3c47d",
   "metadata": {},
   "outputs": [
    {
     "data": {
      "text/plain": [
       "{0, 1, 2, 3, 4, 5, 6}"
      ]
     },
     "execution_count": 41,
     "metadata": {},
     "output_type": "execute_result"
    }
   ],
   "source": [
    "arr = [3,1,2]\n",
    "sums = []\n",
    "\n",
    "def subsetSum(i=0, s=0):\n",
    "    if i == len(arr):\n",
    "        sums.append(s)\n",
    "        return\n",
    "    subsetSum(i+1, s+arr[i])\n",
    "    subsetSum(i+1, s)\n",
    "    \n",
    "subsetSum()\n",
    "set(sums)"
   ]
  },
  {
   "cell_type": "markdown",
   "id": "924d15e1",
   "metadata": {},
   "source": [
    "### Q. Subset Sum II"
   ]
  },
  {
   "cell_type": "code",
   "execution_count": 65,
   "id": "7f8ef35f",
   "metadata": {},
   "outputs": [
    {
     "name": "stdout",
     "output_type": "stream",
     "text": [
      "[]\n",
      "[1]\n",
      "[1, 2]\n",
      "[1, 2, 2]\n",
      "[2]\n",
      "[2, 2]\n"
     ]
    }
   ],
   "source": [
    "arr = [1,2,2]\n",
    "arr = sorted(arr)\n",
    "\n",
    "def uniqueSubsets(ind = 0, temp = []):\n",
    "    print(temp)\n",
    "    for i in range(ind, len(arr)):\n",
    "        if i!=ind and arr[i]==arr[i-1]:\n",
    "            continue\n",
    "        temp.append(arr[i])\n",
    "        uniqueSubsets(i+1, temp)\n",
    "        temp.pop()\n",
    "        \n",
    "uniqueSubsets()"
   ]
  },
  {
   "cell_type": "markdown",
   "id": "d6d500ef",
   "metadata": {},
   "source": [
    "### Q. Print all Permutations of a String/Array; Approach 1"
   ]
  },
  {
   "cell_type": "code",
   "execution_count": 75,
   "id": "a88cf14f",
   "metadata": {},
   "outputs": [
    {
     "name": "stdout",
     "output_type": "stream",
     "text": [
      "[1, 3, 2]\n",
      "[1, 2, 3]\n",
      "[3, 1, 2]\n",
      "[3, 2, 1]\n",
      "[2, 1, 3]\n",
      "[2, 3, 1]\n"
     ]
    }
   ],
   "source": [
    "arr = [1,3,2]\n",
    "\n",
    "def permutations1(temp = [], switch = [0]*len(arr)):\n",
    "    if len(temp) == len(arr):\n",
    "        print(temp)\n",
    "        return\n",
    "    for i in range(len(arr)):\n",
    "        if switch[i] == 0:\n",
    "            temp.append(arr[i])\n",
    "            switch[i] = 1\n",
    "            permutations1(temp, switch)\n",
    "            temp.pop()\n",
    "            switch[i] = 0\n",
    "            \n",
    "permutations1()"
   ]
  },
  {
   "cell_type": "markdown",
   "id": "a5e5fcaf",
   "metadata": {},
   "source": [
    "### Q. Print all Permutations of a String/Array; Approach 2"
   ]
  },
  {
   "cell_type": "code",
   "execution_count": 81,
   "id": "0067cb7f",
   "metadata": {},
   "outputs": [
    {
     "name": "stdout",
     "output_type": "stream",
     "text": [
      "[1, 2, 3]\n",
      "[1, 3, 2]\n",
      "[2, 1, 3]\n",
      "[2, 3, 1]\n",
      "[3, 2, 1]\n",
      "[3, 1, 2]\n"
     ]
    }
   ],
   "source": [
    "arr = [1,2,3]\n",
    "\n",
    "def permutations2(ind = 0, arr = arr):\n",
    "    if ind == len(arr):\n",
    "        print(arr)\n",
    "        return\n",
    "    for i in range(ind,len(arr)):\n",
    "        arr[i], arr[ind] = arr[ind], arr[i]\n",
    "        permutations2(ind+1, arr)\n",
    "        arr[i], arr[ind] = arr[ind], arr[i]\n",
    "        \n",
    "permutations2()"
   ]
  },
  {
   "cell_type": "markdown",
   "id": "92ec9bef",
   "metadata": {},
   "source": [
    "### Q. N-Queens Backtracking"
   ]
  },
  {
   "cell_type": "code",
   "execution_count": 110,
   "id": "2f0b5703",
   "metadata": {},
   "outputs": [
    {
     "name": "stdout",
     "output_type": "stream",
     "text": [
      "[['.', '.', 'Q', '.'], ['Q', '.', '.', '.'], ['.', '.', '.', 'Q'], ['.', 'Q', '.', '.']]\n",
      "[['.', 'Q', '.', '.'], ['.', '.', '.', 'Q'], ['Q', '.', '.', '.'], ['.', '.', 'Q', '.']]\n"
     ]
    }
   ],
   "source": [
    "n = 4\n",
    "board = []\n",
    "for i in range(n):\n",
    "    board.append(['.'] * n)\n",
    "leftRow = [0]*n\n",
    "lowerDiagonal = [0] * (2*n - 1)\n",
    "upperDiagonal = [0] * (2*n - 1)\n",
    "\n",
    "def solveNQueen(col, board, leftRow, lowerDiagonal, upperDiagonal):\n",
    "    if col == n:\n",
    "        print(board)\n",
    "        return\n",
    "    for row in range(n):\n",
    "        if (leftRow[row] == 0 and lowerDiagonal[row+col] == 0 and upperDiagonal[n-1+col-row] == 0):\n",
    "            board[row][col] = 'Q'\n",
    "            leftRow[row] = 1\n",
    "            lowerDiagonal[row+col] = 1\n",
    "            upperDiagonal[n-1+col-row] = 1\n",
    "            solveNQueen(col + 1, board, leftRow, lowerDiagonal, upperDiagonal)\n",
    "            board[row][col] = '.'\n",
    "            leftRow[row] = 0\n",
    "            lowerDiagonal[row+col] = 0\n",
    "            upperDiagonal[n-1+col-row] = 0\n",
    "            \n",
    "solveNQueen(0, board, leftRow, lowerDiagonal, upperDiagonal)"
   ]
  },
  {
   "cell_type": "markdown",
   "id": "9a442a9c",
   "metadata": {},
   "source": [
    "### Q. Sudoku Solver Backtracking"
   ]
  },
  {
   "cell_type": "code",
   "execution_count": 128,
   "id": "cd1f11ba",
   "metadata": {},
   "outputs": [
    {
     "data": {
      "text/plain": [
       "[['5', '3', '4', '6', '7', '8', '9', '1', '2'],\n",
       " ['6', '7', '2', '1', '9', '5', '3', '4', '8'],\n",
       " ['1', '9', '8', '3', '4', '2', '5', '6', '7'],\n",
       " ['8', '5', '9', '7', '6', '1', '4', '2', '3'],\n",
       " ['4', '2', '6', '8', '5', '3', '7', '9', '1'],\n",
       " ['7', '1', '3', '9', '2', '4', '8', '5', '6'],\n",
       " ['9', '6', '1', '5', '3', '7', '2', '8', '4'],\n",
       " ['2', '8', '7', '4', '1', '9', '6', '3', '5'],\n",
       " ['3', '4', '5', '2', '8', '6', '1', '7', '9']]"
      ]
     },
     "execution_count": 128,
     "metadata": {},
     "output_type": "execute_result"
    }
   ],
   "source": [
    "sudoku = [[\"5\",\"3\",\".\",\".\",\"7\",\".\",\".\",\".\",\".\"],[\"6\",\".\",\".\",\"1\",\"9\",\"5\",\".\",\".\",\".\"],[\".\",\"9\",\"8\",\".\",\".\",\".\",\".\",\"6\",\".\"],[\"8\",\".\",\".\",\".\",\"6\",\".\",\".\",\".\",\"3\"],[\"4\",\".\",\".\",\"8\",\".\",\"3\",\".\",\".\",\"1\"],[\"7\",\".\",\".\",\".\",\"2\",\".\",\".\",\".\",\"6\"],[\".\",\"6\",\".\",\".\",\".\",\".\",\"2\",\"8\",\".\"],[\".\",\".\",\".\",\"4\",\"1\",\"9\",\".\",\".\",\"5\"],[\".\",\".\",\".\",\".\",\"8\",\".\",\".\",\"7\",\"9\"]]\n",
    "\n",
    "def solve(sudoku):\n",
    "    for i in range(len(sudoku)):\n",
    "        for j in range(len(sudoku[0])):\n",
    "            if sudoku[i][j] == '.':\n",
    "                for k in range(1,10):\n",
    "                    if isValid(sudoku, i, j, k):\n",
    "                        sudoku[i][j] = str(k)\n",
    "                        if solve(sudoku):\n",
    "                            return True\n",
    "                        else:\n",
    "                            sudoku[i][j] = '.'\n",
    "                return False\n",
    "    return True\n",
    "\n",
    "def isValid(sudoku, row, col, num):\n",
    "    for i in range(9):\n",
    "        if sudoku[i][col] == str(num):\n",
    "            return False\n",
    "        if sudoku[row][i] == str(num):\n",
    "            return False\n",
    "        if sudoku[3 * int(row/3) + int(i/3)][3 * int(col/3) + int(i%3)] == str(num):\n",
    "            return False\n",
    "    return True\n",
    "\n",
    "solve(sudoku)\n",
    "sudoku"
   ]
  },
  {
   "cell_type": "markdown",
   "id": "c75dfc53",
   "metadata": {},
   "source": [
    "### Q. M Coloring Problem Backtracking"
   ]
  },
  {
   "cell_type": "code",
   "execution_count": 7,
   "id": "eb8a7a08",
   "metadata": {},
   "outputs": [
    {
     "name": "stdout",
     "output_type": "stream",
     "text": [
      "{0: [1, 2, 3], 1: [0, 2], 2: [3, 0, 1], 3: [2, 0]}\n",
      "True\n",
      "[1, 2, 3, 2]\n"
     ]
    }
   ],
   "source": [
    "# Number of nodes\n",
    "n = 4\n",
    "# Number of colors\n",
    "m = 3\n",
    "# Number of edges\n",
    "e = 5\n",
    "edges = {(0,1),(1,2),(2,3),(3,0),(0,2)}\n",
    "color = [0] * n\n",
    "def createAdjList(edges):\n",
    "    adjList = {}\n",
    "    for edge in edges:\n",
    "        if edge[0] not in adjList:\n",
    "            adjList[edge[0]] = []\n",
    "        if edge[1] not in adjList:\n",
    "            adjList[edge[1]] = []\n",
    "        if edge[0] not in adjList[edge[1]]:\n",
    "            adjList[edge[1]].append(edge[0])\n",
    "        if edge[1] not in adjList[edge[0]]:\n",
    "            adjList[edge[0]].append(edge[1])\n",
    "    return adjList\n",
    "\n",
    "graph = createAdjList(edges)\n",
    "print(graph)\n",
    "\n",
    "def colorPossible(col, node, graph):\n",
    "    for i in graph[node]:\n",
    "        if color[i] == col:\n",
    "            return False\n",
    "    return True\n",
    "\n",
    "def mColoring(node, graph):\n",
    "    if node == n:\n",
    "        return True\n",
    "    for i in range(1, m+1):\n",
    "        if colorPossible(i, node, graph):\n",
    "            color[node] = i\n",
    "            if(mColoring(node + 1, graph)):\n",
    "                return True\n",
    "            color[node] = 0\n",
    "    return False\n",
    "\n",
    "print(mColoring(0, graph))\n",
    "print(color)"
   ]
  },
  {
   "cell_type": "markdown",
   "id": "190c03ce",
   "metadata": {},
   "source": [
    "### Q. Palindrome Partitioning"
   ]
  },
  {
   "cell_type": "code",
   "execution_count": 28,
   "id": "ae826dc3",
   "metadata": {},
   "outputs": [
    {
     "name": "stdout",
     "output_type": "stream",
     "text": [
      "['a', 'a', 'b', 'b']\n",
      "['a', 'a', 'bb']\n",
      "['aa', 'b', 'b']\n",
      "['aa', 'bb']\n"
     ]
    }
   ],
   "source": [
    "s = 'aabb'\n",
    "n - len(s)\n",
    "def isPalindrome(s):\n",
    "    startIndex = 0\n",
    "    endIndex = len(s) - 1 \n",
    "    while startIndex < endIndex:\n",
    "        if s[startIndex] != s[endIndex]:\n",
    "            return False\n",
    "        startIndex += 1\n",
    "        endIndex -= 1\n",
    "    return True\n",
    "\n",
    "def palinPartition(s, ind, temp):\n",
    "    if ind == n:\n",
    "        print(temp)\n",
    "        return\n",
    "    for i in range(ind, len(s)):\n",
    "        if isPalindrome(s[ind:i+1]):\n",
    "            temp.append(s[ind:i+1])\n",
    "            palinPartition(s, i+1, temp)\n",
    "            temp.pop()\n",
    "            \n",
    "palinPartition(s, 0, [])"
   ]
  },
  {
   "cell_type": "markdown",
   "id": "21b69bc0",
   "metadata": {},
   "source": [
    "### Q. K-th Permutation Sequence"
   ]
  },
  {
   "cell_type": "code",
   "execution_count": 42,
   "id": "87144f0d",
   "metadata": {},
   "outputs": [
    {
     "name": "stdout",
     "output_type": "stream",
     "text": [
      "2314\n"
     ]
    }
   ],
   "source": [
    "n = 4\n",
    "k = 9\n",
    "\n",
    "def kthPermutation(n, k):\n",
    "    fact = 1\n",
    "    numbers = []\n",
    "    for i in range(1, n):\n",
    "        fact *= i\n",
    "        numbers.append(i)\n",
    "    numbers.append(n)\n",
    "    k = k-1\n",
    "    ans = ''\n",
    "    while True:\n",
    "        ans += str(numbers[k//fact])\n",
    "        numbers.remove(numbers[k//fact])\n",
    "        if len(numbers) == 0:\n",
    "            print(ans)\n",
    "            return\n",
    "        k = k % fact\n",
    "        fact = fact // len(numbers)\n",
    "        \n",
    "kthPermutation(n, k)"
   ]
  },
  {
   "cell_type": "markdown",
   "id": "f0effc39",
   "metadata": {},
   "source": [
    "### Q. Rat in a Maze"
   ]
  },
  {
   "cell_type": "code",
   "execution_count": 1,
   "id": "382c8655",
   "metadata": {},
   "outputs": [
    {
     "name": "stdout",
     "output_type": "stream",
     "text": [
      "DDRDRR\n",
      "DRDDRR\n"
     ]
    }
   ],
   "source": [
    "maze = [[1,0,0,0], [1,1,0,1], [1,1,0,0], [0,1,1,1]]\n",
    "n = 4\n",
    "ans = \"\"\n",
    "x = [1,0,0,-1]\n",
    "y = [0,-1,1,0]\n",
    "direc = ['D', 'L', 'R', 'U']\n",
    "vis = [[0,0,0,0], [0,0,0,0], [0,0,0,0], [0,0,0,0]]\n",
    "def solveMaze(row, col, ans):\n",
    "    if row == n-1 and col == n-1:\n",
    "        print(ans)\n",
    "        return\n",
    "    for i in range(4):\n",
    "        nexti = row+x[i]\n",
    "        nextj = col+y[i]\n",
    "        if nexti>=0 and nextj>=0 and nexti<n and nextj<n and maze[nexti][nextj] == 1 and vis[nexti][nextj] == 0:\n",
    "            vis[nexti][nextj] = 1\n",
    "            solveMaze(nexti, nextj, ans + direc[i])\n",
    "            vis[nexti][nextj] = 0\n",
    "\n",
    "solveMaze(0,0,\"\")"
   ]
  },
  {
   "cell_type": "code",
   "execution_count": null,
   "id": "95e58e73",
   "metadata": {},
   "outputs": [],
   "source": []
  }
 ],
 "metadata": {
  "kernelspec": {
   "display_name": "Python 3",
   "language": "python",
   "name": "python3"
  },
  "language_info": {
   "codemirror_mode": {
    "name": "ipython",
    "version": 3
   },
   "file_extension": ".py",
   "mimetype": "text/x-python",
   "name": "python",
   "nbconvert_exporter": "python",
   "pygments_lexer": "ipython3",
   "version": "3.9.4"
  }
 },
 "nbformat": 4,
 "nbformat_minor": 5
}
