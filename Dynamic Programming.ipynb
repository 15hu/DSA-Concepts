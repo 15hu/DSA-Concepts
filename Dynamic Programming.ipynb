{
 "cells": [
  {
   "cell_type": "markdown",
   "id": "cc1968d6",
   "metadata": {},
   "source": [
    "### Q. Fibonacci Series"
   ]
  },
  {
   "cell_type": "code",
   "execution_count": 6,
   "id": "1e64e034",
   "metadata": {},
   "outputs": [
    {
     "name": "stdout",
     "output_type": "stream",
     "text": [
      "8\n",
      "8\n"
     ]
    }
   ],
   "source": [
    "n = 6\n",
    "\n",
    "# Memoization(Top Down)\n",
    "d = [-1] * (n+1)\n",
    "d[0] = 0\n",
    "d[1] = 1\n",
    "def fibonacciMemoization(n):\n",
    "    if n<=1:\n",
    "        return n\n",
    "    if d[n] != -1:\n",
    "        return d[n]\n",
    "    return fibonacciMemoization(n-1) + fibonacciMemoization(n-2)\n",
    "\n",
    "print(fibonacciMemoization(n))\n",
    "\n",
    "# Tabulation(Bottom up)\n",
    "d = [-1] * (n+1)\n",
    "d[0] = 0\n",
    "d[1] = 1\n",
    "def fibonacciTabulation(n):\n",
    "    if n<=1:\n",
    "        return n\n",
    "    for i in range(2,n+1):\n",
    "        d[i] = d[i-1] + d[i-2]\n",
    "    return d[i]\n",
    "\n",
    "print(fibonacciTabulation(n))"
   ]
  },
  {
   "cell_type": "markdown",
   "id": "502cdb90",
   "metadata": {},
   "source": [
    "### Q. Climbing Stairs"
   ]
  },
  {
   "cell_type": "code",
   "execution_count": 10,
   "id": "d7354649",
   "metadata": {},
   "outputs": [
    {
     "name": "stdout",
     "output_type": "stream",
     "text": [
      "3\n",
      "3\n",
      "3\n"
     ]
    }
   ],
   "source": [
    "n = 3\n",
    "\n",
    "# Using Recursion\n",
    "def climbStairs(stairs):\n",
    "    if stairs == 0 or stairs == 1:\n",
    "        return 1\n",
    "    l = climbStairs(stairs - 1)\n",
    "    r = climbStairs(stairs - 2)\n",
    "    return l + r\n",
    "\n",
    "print(climbStairs(n))\n",
    "\n",
    "# Memoization\n",
    "d = [-1] * (n+1)\n",
    "d[0] = 1\n",
    "d[1] = 1\n",
    "def climbStairsMemoization(stairs):\n",
    "    if stairs <= 0:\n",
    "        return 1\n",
    "    if d[stairs] != -1:\n",
    "        return d[stairs]\n",
    "    return climbStairsMemoization(stairs-1) + climbStairsMemoization(stairs-2)\n",
    "\n",
    "print(climbStairsMemoization(n))\n",
    "\n",
    "# Tabulation\n",
    "d = [-1] * (n+1)\n",
    "d[0] = 1\n",
    "d[1] = 1\n",
    "def climbStairsTabulation(stairs):\n",
    "    if stairs <= 0:\n",
    "        return 1\n",
    "    for i in range(2, stairs + 1):\n",
    "        d[i] = d[i-1] + d[i-2]\n",
    "    return d[stairs]\n",
    "\n",
    "print(climbStairsTabulation(n))"
   ]
  },
  {
   "cell_type": "markdown",
   "id": "ce8454c1",
   "metadata": {},
   "source": [
    "### Q. Frog Jump"
   ]
  },
  {
   "cell_type": "code",
   "execution_count": 24,
   "id": "d6ea6a42",
   "metadata": {},
   "outputs": [
    {
     "name": "stdout",
     "output_type": "stream",
     "text": [
      "40\n",
      "40\n",
      "40\n"
     ]
    }
   ],
   "source": [
    "n = 6\n",
    "height = [30, 10, 60, 10, 60, 50]\n",
    "\n",
    "def frogJump(stairs):\n",
    "    if stairs == 0:\n",
    "        return 0\n",
    "    l = frogJump(stairs - 1) + abs(height[stairs] - height[stairs - 1])\n",
    "    r = l + 1\n",
    "    if (stairs > 1):\n",
    "        r = frogJump(stairs - 2) + abs(height[stairs] - height[stairs - 2])\n",
    "    return min(l, r)\n",
    "\n",
    "print(frogJump(n-1))\n",
    "\n",
    "# Memoization\n",
    "d = [-1] * (n)\n",
    "d[0] = 0\n",
    "def frogJumpMemoization(stairs):\n",
    "    if stairs == 0:\n",
    "        return 0\n",
    "    if d[stairs] != -1:\n",
    "        return d[stairs]\n",
    "    l = frogJumpMemoization(stairs - 1) + abs(height[stairs] - height[stairs - 1])\n",
    "    r = l + 1\n",
    "    if (stairs > 1):\n",
    "        r = frogJumpMemoization(stairs - 2) + abs(height[stairs] - height[stairs - 2])\n",
    "    d[stairs] = min(l, r)\n",
    "    return d[stairs]\n",
    "\n",
    "print(frogJumpMemoization(n - 1))\n",
    "\n",
    "# Tabulation\n",
    "d = [-1] * (n)\n",
    "d[0] = 0\n",
    "def frogJumpTabulation(stairs):\n",
    "    if stairs == 0:\n",
    "        return 0\n",
    "    for i in range(1, stairs + 1):\n",
    "        l = d[i - 1] + abs(height[i] - height[i - 1])\n",
    "        r = l + 1\n",
    "        if (i > 1):\n",
    "            r = d[i - 2] + abs(height[i] - height[i - 2])\n",
    "        d[i] = min(l, r)\n",
    "    return d[stairs]\n",
    "\n",
    "print(frogJumpTabulation(n-1))"
   ]
  },
  {
   "cell_type": "markdown",
   "id": "fadcfebf",
   "metadata": {},
   "source": [
    "### Q. Frog Jump with K Distance"
   ]
  },
  {
   "cell_type": "code",
   "execution_count": 25,
   "id": "edf72f00",
   "metadata": {},
   "outputs": [
    {
     "name": "stdout",
     "output_type": "stream",
     "text": [
      "40\n",
      "40\n",
      "40\n"
     ]
    }
   ],
   "source": [
    "n = 6\n",
    "k = 2\n",
    "height = [30, 10, 60, 10, 60, 50]\n",
    "\n",
    "def kFrogJump(stairs):\n",
    "    if stairs == 0:\n",
    "        return 0\n",
    "    minStep = 999\n",
    "    for i in range(k):\n",
    "        cur = i+1\n",
    "        if stairs - cur >= 0:\n",
    "            minStep = min(kFrogJump(stairs - cur) + abs(height[stairs] - height[stairs - cur]), minStep)\n",
    "    return minStep\n",
    "\n",
    "print(kFrogJump(n-1))\n",
    "\n",
    "# Memoization\n",
    "d = [-1] * n\n",
    "d[0] = 0\n",
    "\n",
    "def kFrogJumpMemoization(stairs):\n",
    "    if stairs == 0:\n",
    "        return 0\n",
    "    if d[stairs] != -1:\n",
    "        return d[stairs]\n",
    "    minStep = 999\n",
    "    for i in range(1,k+1):\n",
    "        if stairs - i >= 0:\n",
    "            jump = kFrogJumpMemoization(stairs - i) + abs(height[stairs] - height[stairs - i])\n",
    "            minStep = min(minStep, jump)\n",
    "    d[stairs] = minStep\n",
    "    return d[stairs]\n",
    "\n",
    "print(kFrogJumpMemoization(n-1))\n",
    "\n",
    "# Tabulation\n",
    "d = [-1] * n\n",
    "d[0] = 0\n",
    "\n",
    "def kFrogJumpTabulation(stairs):\n",
    "    if stairs == 0:\n",
    "        return 0\n",
    "    if d[stairs] != -1:\n",
    "        return d[stairs]\n",
    "    for i in range(1,n):\n",
    "        minStep = 999\n",
    "        for j in range(1, k + 1):\n",
    "            if i-j >= 0:\n",
    "                jump = d[i-j] + abs(height[i] - height[i-j])\n",
    "            minStep = min(minStep, jump)\n",
    "        d[i] = minStep\n",
    "    return d[stairs]\n",
    "\n",
    "print(kFrogJumpTabulation(n-1))"
   ]
  },
  {
   "cell_type": "markdown",
   "id": "a5fa23a8",
   "metadata": {},
   "source": [
    "### Q. Maximum Sum of Non Adjacent Elements"
   ]
  },
  {
   "cell_type": "code",
   "execution_count": 36,
   "id": "a21075dc",
   "metadata": {},
   "outputs": [
    {
     "name": "stdout",
     "output_type": "stream",
     "text": [
      "11\n",
      "11\n",
      "11\n",
      "11\n"
     ]
    }
   ],
   "source": [
    "n = 4\n",
    "arr = [2,1,4,9]\n",
    "\n",
    "def maxNonAdjacentSum(ind):\n",
    "    if ind == 0:\n",
    "        return arr[ind]\n",
    "    skip = 0 + maxNonAdjacentSum(ind - 1)\n",
    "    notSkip = arr[ind]\n",
    "    if ind>1:\n",
    "        notSkip += maxNonAdjacentSum(ind - 2)\n",
    "    return max(skip, notSkip)\n",
    "\n",
    "print(maxNonAdjacentSum(n-1))\n",
    "\n",
    "# Memoization\n",
    "d = [-1] * n\n",
    "d[0] = arr[0]\n",
    "\n",
    "def maxNonAdjacentSumMemoization(ind):\n",
    "    if d[ind] != -1:\n",
    "        return d[ind]\n",
    "    skip = 0 + maxNonAdjacentSum(ind - 1)\n",
    "    notSkip = arr[ind]\n",
    "    if ind>1:\n",
    "        notSkip += maxNonAdjacentSumMemoization(ind - 2)\n",
    "    d[ind] = max(skip, notSkip)\n",
    "    return d[ind]\n",
    "\n",
    "print(maxNonAdjacentSumMemoization(n-1))\n",
    "\n",
    "# Tabulation\n",
    "d = [-1] * n\n",
    "d[0] = arr[0]\n",
    "\n",
    "def maxNonAdjacentSumTabulation(ind):\n",
    "    if d[ind] != -1:\n",
    "        return d[ind]\n",
    "    for i in range(1, ind+1):\n",
    "        skip = 0 + d[i - 1]\n",
    "        notSkip = arr[i]\n",
    "        if i>1:\n",
    "            notSkip += d[i-2]\n",
    "        d[i] = max(skip, notSkip)\n",
    "    return d[ind]\n",
    "\n",
    "print(maxNonAdjacentSumTabulation(n-1))\n",
    "\n",
    "# Space Optimization\n",
    "\n",
    "def maxNonAdjacentSumTabulation2(ind):\n",
    "    prev = arr[0]\n",
    "    prev2 = 0\n",
    "    if ind == 0:\n",
    "        return prev\n",
    "    for i in range(1, ind+1):\n",
    "        skip = 0 + prev\n",
    "        notSkip = arr[i] + prev2\n",
    "        prev2 = prev\n",
    "        prev = max(skip, notSkip)\n",
    "    return prev\n",
    "\n",
    "print(maxNonAdjacentSumTabulation2(n-1))"
   ]
  },
  {
   "cell_type": "code",
   "execution_count": null,
   "id": "1288b6aa",
   "metadata": {},
   "outputs": [],
   "source": []
  }
 ],
 "metadata": {
  "kernelspec": {
   "display_name": "Python 3",
   "language": "python",
   "name": "python3"
  },
  "language_info": {
   "codemirror_mode": {
    "name": "ipython",
    "version": 3
   },
   "file_extension": ".py",
   "mimetype": "text/x-python",
   "name": "python",
   "nbconvert_exporter": "python",
   "pygments_lexer": "ipython3",
   "version": "3.9.4"
  }
 },
 "nbformat": 4,
 "nbformat_minor": 5
}
